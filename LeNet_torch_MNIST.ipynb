{
  "nbformat": 4,
  "nbformat_minor": 0,
  "metadata": {
    "colab": {
      "provenance": []
    },
    "kernelspec": {
      "name": "python3",
      "display_name": "Python 3"
    },
    "language_info": {
      "name": "python"
    }
  },
  "cells": [
    {
      "cell_type": "code",
      "execution_count": 1,
      "metadata": {
        "id": "ewi3PsNgutww"
      },
      "outputs": [],
      "source": [
        "#                     imports       \n",
        "# ===========================================================================\n",
        "\n",
        "import torch\n",
        "import numpy as np\n",
        "import torch.nn as nn "
      ]
    },
    {
      "cell_type": "code",
      "source": [
        "import torchvision\n",
        "from torch.utils.data import DataLoader\n",
        "from torchvision.datasets import MNIST\n",
        "from IPython.display import clear_output\n",
        "\n",
        "# transforms for data\n",
        "transform = torchvision.transforms.Compose(\n",
        "    [torchvision.transforms.ToTensor(),\n",
        "     torchvision.transforms.Normalize((0.5), (0.5))])\n",
        "\n",
        "train_set = MNIST(root='./MNIST', train=True, download=True, transform=transform)\n",
        "test_set = MNIST(root='./MNIST', train=False, download=True, transform=transform)\n",
        "\n",
        "batch_size = 64\n",
        "train_loader = DataLoader(train_set, batch_size=batch_size, shuffle=True, num_workers=2)\n",
        "test_loader = DataLoader(test_set, batch_size=batch_size, shuffle=False, num_workers=2)\n",
        "\n",
        "clear_output()"
      ],
      "metadata": {
        "id": "dym9HjkXwFgx"
      },
      "execution_count": 2,
      "outputs": []
    },
    {
      "cell_type": "code",
      "source": [
        "#                    CNN\n",
        "# ===========================================================================\n",
        "\n",
        "class CNN_model_big(nn.Module):\n",
        "\n",
        "    def __init__(self):\n",
        "        super(CNN_model_big, self).__init__()\n",
        "        self.conv_stack = nn.Sequential(\n",
        "            nn.Conv2d(1, 32, 3, padding=1), # входной канал=1 (изображение ч.б), на выходе 32 фильтра, размер ядра свертки 3x3, паддинг 1\n",
        "            nn.MaxPool2d(2), # size [32,14,14]\n",
        "            nn.ReLU(),\n",
        "            nn.Conv2d(32, 32, 3, padding=1), # in channel=32, out=32\n",
        "            nn.MaxPool2d(2), # size [32,7,7]\n",
        "            nn.ReLU(),\n",
        "            nn.Flatten(),\n",
        "            nn.Linear(32*7*7, 100), # размерность на входе линейного слоя = количество_каналов*высота*ширина\n",
        "            nn.ReLU(),\n",
        "            nn.Linear(100, 10)\n",
        "        )\n",
        "\n",
        "    def forward(self, x): \n",
        "        x = self.conv_stack(x) \n",
        "        return x"
      ],
      "metadata": {
        "id": "MA9V8qkcxHg5"
      },
      "execution_count": 3,
      "outputs": []
    },
    {
      "cell_type": "code",
      "source": [
        "device = torch.device(\"cuda\" if torch.cuda.is_available() else \"cpu\") # change run time to gpu to fast training\n",
        "torch.manual_seed(0)\n",
        "np.random.seed(0)\n",
        "train_loader = DataLoader(train_set, batch_size=batch_size, shuffle=True, num_workers=2)\n",
        "model = CNN_model_big().to(device)\n",
        "criterion = nn.CrossEntropyLoss()\n",
        "optimizer = torch.optim.Adam(model.parameters(), lr=0.001)"
      ],
      "metadata": {
        "id": "JOwzFAUMu4Xb"
      },
      "execution_count": 4,
      "outputs": []
    },
    {
      "cell_type": "code",
      "source": [
        "num_epochs = 10\n",
        "loss_hist = [] # for plotting\n",
        "for epoch in range(num_epochs):\n",
        "    hist_loss = 0\n",
        "    for _, batch in enumerate(train_loader, 0): # get batch\n",
        "        # обрабатываем batch \n",
        "        imgs, labels = batch\n",
        "        imgs, labels = imgs.to(device), labels.to(device)\n",
        "        # Зануляем градиенты\n",
        "        optimizer.zero_grad() \n",
        "        # получаем выходы сети\n",
        "        y_pred = model(imgs) \n",
        "        # вычисляем loss\n",
        "        loss = criterion(y_pred, labels)\n",
        "        # вычисляем градиенты\n",
        "        loss.backward() \n",
        "        # выполняем один шаг оптимизатора (обновляем параметры сети)\n",
        "        optimizer.step()\n",
        "        hist_loss += loss.item()\n",
        "    loss_hist.append(hist_loss / len(train_loader))\n",
        "    print(f\"Epoch={epoch} loss={loss_hist[epoch]:.4f}\")\n"
      ],
      "metadata": {
        "colab": {
          "base_uri": "https://localhost:8080/"
        },
        "id": "mIEgEaruxj4z",
        "outputId": "ba3e3aa0-a5cb-43d5-8ff4-efd0e21c51b7"
      },
      "execution_count": 5,
      "outputs": [
        {
          "output_type": "stream",
          "name": "stdout",
          "text": [
            "Epoch=0 loss=0.1829\n",
            "Epoch=1 loss=0.0542\n",
            "Epoch=2 loss=0.0370\n",
            "Epoch=3 loss=0.0297\n",
            "Epoch=4 loss=0.0231\n",
            "Epoch=5 loss=0.0183\n",
            "Epoch=6 loss=0.0155\n",
            "Epoch=7 loss=0.0122\n",
            "Epoch=8 loss=0.0106\n",
            "Epoch=9 loss=0.0086\n"
          ]
        }
      ]
    },
    {
      "cell_type": "code",
      "source": [
        "import matplotlib.pyplot as plt\n",
        "\n",
        "plt.plot(range(num_epochs), loss_hist)\n",
        "plt.xlabel(\"Epochs\", fontsize=15)\n",
        "plt.ylabel(\"Loss\", fontsize=15)\n",
        "plt.show()"
      ],
      "metadata": {
        "colab": {
          "base_uri": "https://localhost:8080/",
          "height": 284
        },
        "id": "KlYYCajmgftz",
        "outputId": "0aa92436-2a5d-4bb2-e271-deaa02fbdff4"
      },
      "execution_count": 6,
      "outputs": [
        {
          "output_type": "display_data",
          "data": {
            "text/plain": [
              "<Figure size 432x288 with 1 Axes>"
            ],
            "image/png": "[encoded data removed]"
          },
          "metadata": {
            "needs_background": "light"
          }
        }
      ]
    },
    {
      "cell_type": "code",
      "source": [
        "def calaculate_accuracy(model, data_loader):\n",
        "    correct, total = 0, 0 \n",
        "    with torch.no_grad(): \n",
        "        for batch in data_loader: # get batch\n",
        "            imgs, labels = batch # parse batch\n",
        "            imgs, labels = imgs.to(device), labels.to(device)\n",
        "            y_pred = model.forward(imgs) # get output\n",
        "            _, predicted = torch.max(y_pred.data, 1) # get predicted class\n",
        "            total += labels.size(0) # all examples\n",
        "            correct += (predicted == labels).sum().item() # correct predictions \n",
        "    return correct / total \n",
        "\n",
        "acc_train = round(calaculate_accuracy(model, train_loader), 3)\n",
        "print(f\"Accuracy train = {acc_train}\")\n",
        "acc_test = round(calaculate_accuracy(model, test_loader), 3)\n",
        "print(f\"Accuracy test = {acc_test}\")"
      ],
      "metadata": {
        "colab": {
          "base_uri": "https://localhost:8080/"
        },
        "id": "nvcsx4PgxmLF",
        "outputId": "7d9f4e0f-fabe-4882-b433-000841a85050"
      },
      "execution_count": 7,
      "outputs": [
        {
          "output_type": "stream",
          "name": "stdout",
          "text": [
            "Accuracy train = 0.998\n",
            "Accuracy test = 0.992\n"
          ]
        }
      ]
    },
    {
      "cell_type": "markdown",
      "source": [],
      "metadata": {
        "id": "C9-bPBTphDRo"
      }
    },
    {
      "cell_type": "code",
      "source": [
        "from google.colab import files\n",
        "uploaded = files.upload() #Загрузим файл с изображением"
      ],
      "metadata": {
        "colab": {
          "base_uri": "https://localhost:8080/",
          "height": 73
        },
        "id": "YCEMXgbShDaZ",
        "outputId": "b72b216c-79d1-4e1f-ea97-90ce9c5beecb"
      },
      "execution_count": 8,
      "outputs": [
        {
          "output_type": "display_data",
          "data": {
            "text/plain": [
              "<IPython.core.display.HTML object>"
            ],
            "text/html": [
              "\n",
              "     <input type=\"file\" id=\"files-611ec885-3078-42fc-bf2e-0ad275ebe5e4\" name=\"files[]\" multiple disabled\n",
              "        style=\"border:none\" />\n",
              "     <output id=\"result-611ec885-3078-42fc-bf2e-0ad275ebe5e4\">\n",
              "      Upload widget is only available when the cell has been executed in the\n",
              "      current browser session. Please rerun this cell to enable.\n",
              "      </output>\n",
              "      <script>// Copyright 2017 Google LLC\n",
              "//\n",
              "// Licensed under the Apache License, Version 2.0 (the \"License\");\n",
              "// you may not use this file except in compliance with the License.\n",
              "// You may obtain a copy of the License at\n",
              "//\n",
              "//      http://www.apache.org/licenses/LICENSE-2.0\n",
              "//\n",
              "// Unless required by applicable law or agreed to in writing, software\n",
              "// distributed under the License is distributed on an \"AS IS\" BASIS,\n",
              "// WITHOUT WARRANTIES OR CONDITIONS OF ANY KIND, either express or implied.\n",
              "// See the License for the specific language governing permissions and\n",
              "// limitations under the License.\n",
              "\n",
              "/**\n",
              " * @fileoverview Helpers for google.colab Python module.\n",
              " */\n",
              "(function(scope) {\n",
              "function span(text, styleAttributes = {}) {\n",
              "  const element = document.createElement('span');\n",
              "  element.textContent = text;\n",
              "  for (const key of Object.keys(styleAttributes)) {\n",
              "    element.style[key] = styleAttributes[key];\n",
              "  }\n",
              "  return element;\n",
              "}\n",
              "\n",
              "// Max number of bytes which will be uploaded at a time.\n",
              "const MAX_PAYLOAD_SIZE = 100 * 1024;\n",
              "\n",
              "function _uploadFiles(inputId, outputId) {\n",
              "  const steps = uploadFilesStep(inputId, outputId);\n",
              "  const outputElement = document.getElementById(outputId);\n",
              "  // Cache steps on the outputElement to make it available for the next call\n",
              "  // to uploadFilesContinue from Python.\n",
              "  outputElement.steps = steps;\n",
              "\n",
              "  return _uploadFilesContinue(outputId);\n",
              "}\n",
              "\n",
              "// This is roughly an async generator (not supported in the browser yet),\n",
              "// where there are multiple asynchronous steps and the Python side is going\n",
              "// to poll for completion of each step.\n",
              "// This uses a Promise to block the python side on completion of each step,\n",
              "// then passes the result of the previous step as the input to the next step.\n",
              "function _uploadFilesContinue(outputId) {\n",
              "  const outputElement = document.getElementById(outputId);\n",
              "  const steps = outputElement.steps;\n",
              "\n",
              "  const next = steps.next(outputElement.lastPromiseValue);\n",
              "  return Promise.resolve(next.value.promise).then((value) => {\n",
              "    // Cache the last promise value to make it available to the next\n",
              "    // step of the generator.\n",
              "    outputElement.lastPromiseValue = value;\n",
              "    return next.value.response;\n",
              "  });\n",
              "}\n",
              "\n",
              "/**\n",
              " * Generator function which is called between each async step of the upload\n",
              " * process.\n",
              " * @param {string} inputId Element ID of the input file picker element.\n",
              " * @param {string} outputId Element ID of the output display.\n",
              " * @return {!Iterable<!Object>} Iterable of next steps.\n",
              " */\n",
              "function* uploadFilesStep(inputId, outputId) {\n",
              "  const inputElement = document.getElementById(inputId);\n",
              "  inputElement.disabled = false;\n",
              "\n",
              "  const outputElement = document.getElementById(outputId);\n",
              "  outputElement.innerHTML = '';\n",
              "\n",
              "  const pickedPromise = new Promise((resolve) => {\n",
              "    inputElement.addEventListener('change', (e) => {\n",
              "      resolve(e.target.files);\n",
              "    });\n",
              "  });\n",
              "\n",
              "  const cancel = document.createElement('button');\n",
              "  inputElement.parentElement.appendChild(cancel);\n",
              "  cancel.textContent = 'Cancel upload';\n",
              "  const cancelPromise = new Promise((resolve) => {\n",
              "    cancel.onclick = () => {\n",
              "      resolve(null);\n",
              "    };\n",
              "  });\n",
              "\n",
              "  // Wait for the user to pick the files.\n",
              "  const files = yield {\n",
              "    promise: Promise.race([pickedPromise, cancelPromise]),\n",
              "    response: {\n",
              "      action: 'starting',\n",
              "    }\n",
              "  };\n",
              "\n",
              "  cancel.remove();\n",
              "\n",
              "  // Disable the input element since further picks are not allowed.\n",
              "  inputElement.disabled = true;\n",
              "\n",
              "  if (!files) {\n",
              "    return {\n",
              "      response: {\n",
              "        action: 'complete',\n",
              "      }\n",
              "    };\n",
              "  }\n",
              "\n",
              "  for (const file of files) {\n",
              "    const li = document.createElement('li');\n",
              "    li.append(span(file.name, {fontWeight: 'bold'}));\n",
              "    li.append(span(\n",
              "        `(${file.type || 'n/a'}) - ${file.size} bytes, ` +\n",
              "        `last modified: ${\n",
              "            file.lastModifiedDate ? file.lastModifiedDate.toLocaleDateString() :\n",
              "                                    'n/a'} - `));\n",
              "    const percent = span('0% done');\n",
              "    li.appendChild(percent);\n",
              "\n",
              "    outputElement.appendChild(li);\n",
              "\n",
              "    const fileDataPromise = new Promise((resolve) => {\n",
              "      const reader = new FileReader();\n",
              "      reader.onload = (e) => {\n",
              "        resolve(e.target.result);\n",
              "      };\n",
              "      reader.readAsArrayBuffer(file);\n",
              "    });\n",
              "    // Wait for the data to be ready.\n",
              "    let fileData = yield {\n",
              "      promise: fileDataPromise,\n",
              "      response: {\n",
              "        action: 'continue',\n",
              "      }\n",
              "    };\n",
              "\n",
              "    // Use a chunked sending to avoid message size limits. See b/62115660.\n",
              "    let position = 0;\n",
              "    do {\n",
              "      const length = Math.min(fileData.byteLength - position, MAX_PAYLOAD_SIZE);\n",
              "      const chunk = new Uint8Array(fileData, position, length);\n",
              "      position += length;\n",
              "\n",
              "      const base64 = btoa(String.fromCharCode.apply(null, chunk));\n",
              "      yield {\n",
              "        response: {\n",
              "          action: 'append',\n",
              "          file: file.name,\n",
              "          data: base64,\n",
              "        },\n",
              "      };\n",
              "\n",
              "      let percentDone = fileData.byteLength === 0 ?\n",
              "          100 :\n",
              "          Math.round((position / fileData.byteLength) * 100);\n",
              "      percent.textContent = `${percentDone}% done`;\n",
              "\n",
              "    } while (position < fileData.byteLength);\n",
              "  }\n",
              "\n",
              "  // All done.\n",
              "  yield {\n",
              "    response: {\n",
              "      action: 'complete',\n",
              "    }\n",
              "  };\n",
              "}\n",
              "\n",
              "scope.google = scope.google || {};\n",
              "scope.google.colab = scope.google.colab || {};\n",
              "scope.google.colab._files = {\n",
              "  _uploadFiles,\n",
              "  _uploadFilesContinue,\n",
              "};\n",
              "})(self);\n",
              "</script> "
            ]
          },
          "metadata": {}
        },
        {
          "output_type": "stream",
          "name": "stdout",
          "text": [
            "Saving test_digit.png to test_digit.png\n"
          ]
        }
      ]
    },
    {
      "cell_type": "code",
      "source": [
        "from PIL import Image\n",
        "from torchvision import transforms\n",
        "\n",
        "img_upl = Image.open(list(uploaded.keys())[0]) #откроем изображение\n",
        "transform = transforms.Compose([transforms.Resize((28, 28)), #конвертируем в размер 28 на 28 пикселей\n",
        "                                transforms.ToTensor()])\n",
        "\n",
        "tensor = transforms.functional.rgb_to_grayscale(transform(img_upl)) #переводим в ч.б. изображение\n",
        "tensor = transforms.functional.invert(tensor)\n",
        "tensor.to(device)\n",
        "pred = model(tensor.unsqueeze(0)) #получим выход с сети на нашей картинке\n",
        "\n",
        "plt.rcParams[\"figure.figsize\"] = (4, 4)\n",
        "plt.imshow(tensor.squeeze(),cmap='gray')\n",
        "plt.axis('off')\n",
        "plt.show()\n",
        "\n",
        "digits = np.argmax(pred.detach().numpy(), axis=1)\n",
        "print(pred)\n",
        "print('Предсказанный класс: ', digits)"
      ],
      "metadata": {
        "colab": {
          "base_uri": "https://localhost:8080/",
          "height": 300
        },
        "id": "gG_sczrVhEqv",
        "outputId": "13a398e3-193b-4ee8-cbba-c406101056d0"
      },
      "execution_count": 9,
      "outputs": [
        {
          "output_type": "display_data",
          "data": {
            "text/plain": [
              "<Figure size 288x288 with 1 Axes>"
            ],
            "image/png": "[encoded data removed]"
          },
          "metadata": {
            "needs_background": "light"
          }
        },
        {
          "output_type": "stream",
          "name": "stdout",
          "text": [
            "tensor([[ -3.4143, -10.3395,  -3.9735,  -0.9025,  -3.3412,  -2.0626,   2.6440,\n",
            "         -10.7340,   1.8841,   1.5986]], grad_fn=<AddmmBackward0>)\n",
            "Предсказанный класс:  [6]\n"
          ]
        }
      ]
    }
  ]
}