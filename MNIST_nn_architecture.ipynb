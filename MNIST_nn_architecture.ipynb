{
  "nbformat": 4,
  "nbformat_minor": 0,
  "metadata": {
    "colab": {
      "provenance": []
    },
    "kernelspec": {
      "name": "python3",
      "display_name": "Python 3"
    },
    "language_info": {
      "name": "python"
    }
  },
  "cells": [
    {
      "cell_type": "code",
      "execution_count": 1,
      "metadata": {
        "id": "jIKNG4JMh48j"
      },
      "outputs": [],
      "source": [
        "#                   imports\n",
        "# =============================================================================\n",
        "\n",
        "import torch\n",
        "import torchvision\n",
        "from torch.utils.data import DataLoader\n",
        "from torchvision.datasets import MNIST\n",
        "from IPython.display import clear_output\n",
        "\n",
        "transform = torchvision.transforms.Compose(\n",
        "    [torchvision.transforms.ToTensor(),\n",
        "     torchvision.transforms.Normalize((0.5), (0.5))])\n",
        "\n",
        "train_set = MNIST(root='./MNIST', train=True, download=True, transform=transform)\n",
        "test_set = MNIST(root='./MNIST', train=False, download=True, transform=transform)\n",
        "\n",
        "batch_size = 64\n",
        "train_loader = DataLoader(train_set, batch_size=batch_size, shuffle=True, num_workers=2)\n",
        "test_loader = DataLoader(test_set, batch_size=batch_size, shuffle=False, num_workers=2)\n",
        "\n",
        "clear_output()\n"
      ]
    },
    {
      "cell_type": "markdown",
      "source": [
        "Набор данных MNIST (англ. Modified National Institute of Standards and Technology) представляет собой модельный набор данных с изображениями рукописных цифр, который часто используется для обучения и оценки качества работы ML моделей классификации изображений.\n",
        "\n",
        "Датасет состоит из  60000  тренировочных и  10000  тестовых изображений. Все изображения имеют одинаковый квадратный размер  28×28  пикселей и единственный цветовой канал. Рукописные изображения цифр имеют равный размер и располагаются в центре кадра. Кроме того, все изображения имеют одинаковую яркость. Всего датасет содержит 10 классов изображений -- цифры от  0  до  9."
      ],
      "metadata": {
        "id": "svZmgpRBinA5"
      }
    },
    {
      "cell_type": "code",
      "source": [
        "#                   dataset's visualization\n",
        "# =============================================================================\n",
        "\n",
        "from matplotlib.pyplot import imshow\n",
        "import matplotlib.pyplot as plt\n",
        "import numpy as np\n",
        "\n",
        "x_train = train_set.data.numpy() # images\n",
        "y_train = train_set.targets.numpy() # labels\n",
        "labels_names = list(map(str, range(10)))\n",
        "plt.figure(figsize = (20.0, 20.0))  \n",
        "for i in range(10):  # for all classes (0 to 9)\n",
        "  label_indexes = np.where(y_train == i)[0] # get indexes for each class \n",
        "  index = np.random.choice(label_indexes)\n",
        "  img = x_train[index]\n",
        "\n",
        "  plt.subplot(1, 10, i + 1)  \n",
        "  plt.title(labels_names[i])  \n",
        "  plt.axis(\"off\")  \n",
        "  imshow(img,cmap='gray')  "
      ],
      "metadata": {
        "colab": {
          "base_uri": "https://localhost:8080/",
          "height": 141
        },
        "id": "I2975797ipXc",
        "outputId": "a31dc943-bd1c-469e-afb4-3f4295cf8f21"
      },
      "execution_count": 2,
      "outputs": [
        {
          "output_type": "display_data",
          "data": {
            "text/plain": [
              "<Figure size 1440x1440 with 10 Axes>"
            ],
            "image/png": "[encoded data removed]"
          },
          "metadata": {
            "needs_background": "light"
          }
        }
      ]
    },
    {
      "cell_type": "markdown",
      "source": [
        "Наследование nn.Model\n"
      ],
      "metadata": {
        "id": "nghOFYdri8yb"
      }
    },
    {
      "cell_type": "code",
      "source": [
        "import torch.nn as nn\n",
        "\n",
        "class Net(nn.Module):\n",
        "    def __init__(self):\n",
        "        super().__init__()\n",
        "        self.fc1 = nn.Linear(28*28, 128) \n",
        "        self.fc2 = nn.Linear(128, 10)\n",
        "        self.activation = nn.ReLU()\n",
        "\n",
        "    def forward(self, x): # Called inside __call__ method\n",
        "        x = x.view(-1, 28*28) # \"reshape\" image to vector\n",
        "        x = self.fc1(x)\n",
        "        x = self.activation(x)\n",
        "        x = self.fc2(x)\n",
        "        return x"
      ],
      "metadata": {
        "id": "1zfa5K8Wi2Hk"
      },
      "execution_count": 3,
      "outputs": []
    },
    {
      "cell_type": "markdown",
      "source": [
        "Наследование nn.Sequential"
      ],
      "metadata": {
        "id": "uc3ymIxWjL4L"
      }
    },
    {
      "cell_type": "code",
      "source": [
        "class Net(nn.Module):\n",
        "    def __init__(self):\n",
        "        super().__init__()\n",
        "        self.layers = nn.Sequential(\n",
        "                                     nn.Linear(28*28, 128),\n",
        "                                     nn.ReLU(),\n",
        "                                     nn.Linear(128, 10)\n",
        "                                    )\n",
        "    def forward(self, x):\n",
        "        x = x.view(-1, 28*28)\n",
        "        x = self.layers(x)\n",
        "        return x\n",
        "\n",
        "\n",
        "def calaculate_accuracy(model, data_loader):\n",
        "    correct, total = 0, 0 \n",
        "    with torch.no_grad(): \n",
        "        for batch in data_loader: # get batch\n",
        "            imgs, labels = batch # parse batch\n",
        "            pred = model(imgs) # get output\n",
        "            _, predicted = torch.max(pred.data, 1) # get predicted class\n",
        "            total += labels.size(0) # all examples\n",
        "            correct += (predicted == labels).sum().item() # correct predictions \n",
        "    return correct / total \n",
        "\n",
        "\n",
        "model = Net()\n",
        "criterion = nn.CrossEntropyLoss()\n",
        "optimizer = torch.optim.SGD(model.parameters(), lr=0.001)\n",
        "\n",
        "from tqdm import trange\n",
        "\n",
        "num_epochs = 10\n",
        "loss_hist = [] # for plotting\n",
        "epochs = trange(num_epochs)\n",
        "for epoch in epochs:\n",
        "    hist_loss = 0\n",
        "    for _, batch in enumerate(train_loader, 0): # get batch\n",
        "        # обрабатываем batch \n",
        "        imgs, labels = batch\n",
        "        # Зануляем градиенты\n",
        "        optimizer.zero_grad() \n",
        "        # получаем выходы сети\n",
        "        pred = model(imgs) \n",
        "        # вычисляем loss\n",
        "        loss = criterion(pred, labels)\n",
        "        # вычисляем градиенты\n",
        "        loss.backward() \n",
        "        # выполняем один шаг оптимизатора (обновляем параметры сети)\n",
        "        optimizer.step()\n",
        "        hist_loss += loss.item()\n",
        "    loss_hist.append(hist_loss / len(train_loader))\n",
        "    epochs.set_description(f\"Epoch={epoch}  loss={loss_hist[epoch]:.4}\")\n",
        "\n",
        "acc_train = round(calaculate_accuracy(model, train_loader), 2)\n",
        "print(f\"Accuracy train = {acc_train}\")\n",
        "acc_test = calaculate_accuracy(model, test_loader)\n",
        "print(f\"Accuracy test = {acc_test}\")"
      ],
      "metadata": {
        "colab": {
          "base_uri": "https://localhost:8080/"
        },
        "id": "0afSMcdojQur",
        "outputId": "2d12df45-c9ca-4a30-80d2-c71277de93dc"
      },
      "execution_count": 4,
      "outputs": [
        {
          "output_type": "stream",
          "name": "stderr",
          "text": [
            "Epoch=9  loss=0.407: 100%|██████████| 10/10 [01:25<00:00,  8.52s/it]\n"
          ]
        },
        {
          "output_type": "stream",
          "name": "stdout",
          "text": [
            "Accuracy train = 0.89\n",
            "Accuracy test = 0.896\n"
          ]
        }
      ]
    },
    {
      "cell_type": "code",
      "source": [
        "plt.figure(figsize = (10, 5))\n",
        "plt.plot(range(num_epochs), loss_hist)\n",
        "plt.xlabel(\"Epochs\", fontsize=15)\n",
        "plt.ylabel(\"Loss\", fontsize=15)\n",
        "plt.show()"
      ],
      "metadata": {
        "colab": {
          "base_uri": "https://localhost:8080/",
          "height": 339
        },
        "id": "Qmb3p8I6jlsn",
        "outputId": "597efcb1-796d-460d-a1d3-70bc8b7116fc"
      },
      "execution_count": 5,
      "outputs": [
        {
          "output_type": "display_data",
          "data": {
            "text/plain": [
              "<Figure size 720x360 with 1 Axes>"
            ],
            "image/png": "[encoded data removed]"
          },
          "metadata": {
            "needs_background": "light"
          }
        }
      ]
    },
    {
      "cell_type": "markdown",
      "source": [
        "## 1\n",
        "Дополнение архитектуры нейросети. Построение модели нейронной сети, состоящей из трех полносвязных слоев, два из которых размера 128 с функцией активации ReLU, третий 10.\n",
        "Результат - значение **Accuracy test**."
      ],
      "metadata": {
        "id": "xtZTlnMxj0fM"
      }
    },
    {
      "cell_type": "code",
      "source": [
        "class Net_Big(nn.Module):\n",
        "    def __init__(self):\n",
        "        super().__init__()\n",
        "        self.layers = nn.Sequential(\n",
        "                                    nn.Linear(28*28,128),\n",
        "                                    nn.ReLU(),\n",
        "                                    nn.Linear(128,128),\n",
        "                                    nn.ReLU(),\n",
        "                                    nn.Linear(128,10)\n",
        "                                    )\n",
        "    def forward(self, x):\n",
        "        x = x.view(-1, 28*28)\n",
        "        x = self.layers(x)\n",
        "        return x\n",
        "\n",
        "torch.manual_seed(0)\n",
        "np.random.seed(0)\n",
        "train_loader = DataLoader(train_set, batch_size=batch_size, shuffle=True, num_workers=2)\n",
        "model = Net_Big()\n",
        "optimizer = torch.optim.SGD(model.parameters(), lr=0.001)\n",
        "num_epochs = 10\n",
        "loss_hist = [] # for plotting\n",
        "epochs = trange(num_epochs)\n",
        "for epoch in epochs:\n",
        "    hist_loss = 0\n",
        "    for _, batch in enumerate(train_loader, 0): # get batch\n",
        "        # обрабатываем batch \n",
        "        imgs, labels = batch\n",
        "        # Зануляем градиенты\n",
        "        optimizer.zero_grad() \n",
        "        # получаем выходы сети\n",
        "        pred = model(imgs) \n",
        "        # вычисляем loss\n",
        "        loss = criterion(pred, labels)\n",
        "        # вычисляем градиенты\n",
        "        loss.backward() \n",
        "        # выполняем один шаг оптимизатора (обновляем параметры сети)\n",
        "        optimizer.step()\n",
        "        hist_loss += loss.item()\n",
        "    loss_hist.append(hist_loss / len(train_loader))\n",
        "    epochs.set_description(f\"Epoch={epoch}  loss={loss_hist[epoch]:.4}\")\n",
        "\n",
        "acc_train = round(calaculate_accuracy(model, train_loader), 2)\n",
        "print(f\"Accuracy train = {acc_train}\")\n",
        "acc_test = calaculate_accuracy(model, test_loader)\n",
        "print(f\"Accuracy test = {acc_test}\")"
      ],
      "metadata": {
        "colab": {
          "base_uri": "https://localhost:8080/"
        },
        "id": "HixfHgyojl1a",
        "outputId": "6dd53ad3-aaef-4909-b1ab-428d6176f6de"
      },
      "execution_count": 6,
      "outputs": [
        {
          "output_type": "stream",
          "name": "stderr",
          "text": [
            "Epoch=9  loss=0.4296: 100%|██████████| 10/10 [01:27<00:00,  8.72s/it]\n"
          ]
        },
        {
          "output_type": "stream",
          "name": "stdout",
          "text": [
            "Accuracy train = 0.88\n",
            "Accuracy test = 0.8888\n"
          ]
        }
      ]
    },
    {
      "cell_type": "code",
      "source": [
        "#                  visualize the result\n",
        "# =============================================================================\n",
        "\n",
        "# get batch\n",
        "imgs, labels = next(iter(test_loader))\n",
        "print('imgs shape: ', imgs.shape)"
      ],
      "metadata": {
        "id": "zaCVijOMuprG",
        "colab": {
          "base_uri": "https://localhost:8080/"
        },
        "outputId": "a6dfafe6-039f-4805-f2fb-52870ff4937c"
      },
      "execution_count": 7,
      "outputs": [
        {
          "output_type": "stream",
          "name": "stdout",
          "text": [
            "imgs shape:  torch.Size([64, 1, 28, 28])\n"
          ]
        }
      ]
    },
    {
      "cell_type": "code",
      "source": [
        "# get output\n",
        "pred = model(imgs)\n",
        "print('pred shape: ', pred.shape)"
      ],
      "metadata": {
        "colab": {
          "base_uri": "https://localhost:8080/"
        },
        "id": "xDIyth8-b3xM",
        "outputId": "886a849b-4257-448f-e7ea-8c88b8404b29"
      },
      "execution_count": 8,
      "outputs": [
        {
          "output_type": "stream",
          "name": "stdout",
          "text": [
            "pred shape:  torch.Size([64, 10])\n"
          ]
        }
      ]
    },
    {
      "cell_type": "code",
      "source": [
        "# First sample in prediction batch\n",
        "pred[0]"
      ],
      "metadata": {
        "colab": {
          "base_uri": "https://localhost:8080/"
        },
        "id": "V-Ps9fGHb4YB",
        "outputId": "6f6db475-4e52-4f9b-c0b2-d3c1db48735a"
      },
      "execution_count": 9,
      "outputs": [
        {
          "output_type": "execute_result",
          "data": {
            "text/plain": [
              "tensor([ 0.1652, -2.6830, -0.2799,  2.8485, -0.9434,  0.4135, -6.6109,  9.6454,\n",
              "        -0.7773,  4.4700], grad_fn=<SelectBackward0>)"
            ]
          },
          "metadata": {},
          "execution_count": 9
        }
      ]
    },
    {
      "cell_type": "code",
      "source": [
        "# Calculate probabilities\n",
        "nn.Softmax(dim=0)(pred[0].detach())\n"
      ],
      "metadata": {
        "colab": {
          "base_uri": "https://localhost:8080/"
        },
        "id": "3ttLsU3pb4aU",
        "outputId": "b5a421d9-7cda-4e15-8149-9e02b845ea48"
      },
      "execution_count": 10,
      "outputs": [
        {
          "output_type": "execute_result",
          "data": {
            "text/plain": [
              "tensor([7.5812e-05, 4.3934e-06, 4.8577e-05, 1.1094e-03, 2.5018e-05, 9.7178e-05,\n",
              "        8.6477e-08, 9.9300e-01, 2.9540e-05, 5.6144e-03])"
            ]
          },
          "metadata": {},
          "execution_count": 10
        }
      ]
    },
    {
      "cell_type": "code",
      "source": [
        "# remove axis\n",
        "imgs = torch.reshape(imgs, (64, 28, 28))\n",
        "print('imgs shape(after reshape): ', imgs.shape)"
      ],
      "metadata": {
        "colab": {
          "base_uri": "https://localhost:8080/"
        },
        "id": "OcyCl284b4cr",
        "outputId": "36927eab-5af9-4bcb-e244-b6ec80d11a75"
      },
      "execution_count": 11,
      "outputs": [
        {
          "output_type": "stream",
          "name": "stdout",
          "text": [
            "imgs shape(after reshape):  torch.Size([64, 28, 28])\n"
          ]
        }
      ]
    },
    {
      "cell_type": "code",
      "source": [
        "# take 10 first images\n",
        "imgs = imgs[:10]\n",
        "print('imgs shape: ', imgs.shape)"
      ],
      "metadata": {
        "colab": {
          "base_uri": "https://localhost:8080/"
        },
        "id": "CJK8A1Zkb-rX",
        "outputId": "81e951c7-f952-48bf-acac-85650985d359"
      },
      "execution_count": 12,
      "outputs": [
        {
          "output_type": "stream",
          "name": "stdout",
          "text": [
            "imgs shape:  torch.Size([10, 28, 28])\n"
          ]
        }
      ]
    },
    {
      "cell_type": "code",
      "source": [
        "pred = pred[:10].detach()\n",
        "print('Prediction(1 sample):\\n', pred[0])\n",
        "digits = np.argmax(pred.numpy(), axis=1)\n",
        "print('Predicted class: ', digits[0])"
      ],
      "metadata": {
        "colab": {
          "base_uri": "https://localhost:8080/"
        },
        "id": "lYOqoizTcAyv",
        "outputId": "9e419255-c40e-463e-8c47-cf2b044907a1"
      },
      "execution_count": 13,
      "outputs": [
        {
          "output_type": "stream",
          "name": "stdout",
          "text": [
            "Prediction(1 sample):\n",
            " tensor([ 0.1652, -2.6830, -0.2799,  2.8485, -0.9434,  0.4135, -6.6109,  9.6454,\n",
            "        -0.7773,  4.4700])\n",
            "Predicted class:  7\n"
          ]
        }
      ]
    },
    {
      "cell_type": "markdown",
      "source": [
        "Визуализируем изображения, подпишем предсказанное и истинное значение:"
      ],
      "metadata": {
        "id": "UIGZLsCVcGXZ"
      }
    },
    {
      "cell_type": "code",
      "source": [
        "plt.figure(figsize = (25.0, 25.0))\n",
        "for i in range(10):\n",
        "  img = imgs[i]\n",
        "\n",
        "  plt.subplot(1, 10, i + 1)\n",
        "  plt.title('pred: ' + str(digits[i]) + ' real: '+str(labels[i].numpy())) # predicted and real values\n",
        "  plt.axis(\"off\")\n",
        "  imshow(img.numpy(),cmap='gray') "
      ],
      "metadata": {
        "colab": {
          "base_uri": "https://localhost:8080/",
          "height": 165
        },
        "id": "akFSoiIUcDoh",
        "outputId": "086aa941-259b-46b6-e814-fd3e872e9c85"
      },
      "execution_count": 14,
      "outputs": [
        {
          "output_type": "display_data",
          "data": {
            "text/plain": [
              "<Figure size 1800x1800 with 10 Axes>"
            ],
            "image/png": "[encoded data removed]"
          },
          "metadata": {
            "needs_background": "light"
          }
        }
      ]
    }
  ]
}